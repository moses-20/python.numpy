{
 "cells": [
  {
   "cell_type": "markdown",
   "metadata": {},
   "source": [
    "## Shape Manipulation"
   ]
  },
  {
   "cell_type": "code",
   "execution_count": 2,
   "metadata": {},
   "outputs": [
    {
     "data": {
      "text/plain": [
       "array([0.00985922, 0.38026697, 0.79048169, 0.92000031, 0.10520014,\n",
       "       0.05785142, 0.37474571, 0.59019408, 0.07082724, 0.31197299,\n",
       "       0.90340699, 0.13954121])"
      ]
     },
     "execution_count": 2,
     "metadata": {},
     "output_type": "execute_result"
    }
   ],
   "source": [
    "import numpy as np\n",
    "\n",
    "a = np.random.random(12)\n",
    "\n",
    "a"
   ]
  },
  {
   "cell_type": "code",
   "execution_count": 4,
   "metadata": {},
   "outputs": [
    {
     "data": {
      "text/plain": [
       "array([[0.00985922, 0.38026697, 0.79048169, 0.92000031],\n",
       "       [0.10520014, 0.05785142, 0.37474571, 0.59019408],\n",
       "       [0.07082724, 0.31197299, 0.90340699, 0.13954121]])"
      ]
     },
     "execution_count": 4,
     "metadata": {},
     "output_type": "execute_result"
    }
   ],
   "source": [
    "A = a.reshape(3, 4)\n",
    "A"
   ]
  },
  {
   "cell_type": "code",
   "execution_count": 6,
   "metadata": {},
   "outputs": [
    {
     "data": {
      "text/plain": [
       "array([[0.00985922, 0.38026697, 0.79048169, 0.92000031],\n",
       "       [0.10520014, 0.05785142, 0.37474571, 0.59019408],\n",
       "       [0.07082724, 0.31197299, 0.90340699, 0.13954121]])"
      ]
     },
     "execution_count": 6,
     "metadata": {},
     "output_type": "execute_result"
    }
   ],
   "source": [
    "# modify shape of an array\n",
    "a.shape = (3, 4)\n",
    "\n",
    "a"
   ]
  },
  {
   "cell_type": "code",
   "execution_count": 8,
   "metadata": {},
   "outputs": [
    {
     "data": {
      "text/plain": [
       "array([0.00985922, 0.38026697, 0.79048169, 0.92000031, 0.10520014,\n",
       "       0.05785142, 0.37474571, 0.59019408, 0.07082724, 0.31197299,\n",
       "       0.90340699, 0.13954121])"
      ]
     },
     "execution_count": 8,
     "metadata": {},
     "output_type": "execute_result"
    }
   ],
   "source": [
    "# convert matrix to array\n",
    "a.ravel()"
   ]
  },
  {
   "cell_type": "code",
   "execution_count": 9,
   "metadata": {},
   "outputs": [
    {
     "data": {
      "text/plain": [
       "array([[0.00985922, 0.10520014, 0.07082724],\n",
       "       [0.38026697, 0.05785142, 0.31197299],\n",
       "       [0.79048169, 0.37474571, 0.90340699],\n",
       "       [0.92000031, 0.59019408, 0.13954121]])"
      ]
     },
     "execution_count": 9,
     "metadata": {},
     "output_type": "execute_result"
    }
   ],
   "source": [
    "# transpose a matrix\n",
    "A.transpose()"
   ]
  }
 ],
 "metadata": {
  "interpreter": {
   "hash": "31b353e53e825d14de5e6a3ed4c369dbfc6f9c63dc712b6de2f249cabb98c74a"
  },
  "kernelspec": {
   "display_name": "Python 3.10.0 ('env': venv)",
   "language": "python",
   "name": "python3"
  },
  "language_info": {
   "codemirror_mode": {
    "name": "ipython",
    "version": 3
   },
   "file_extension": ".py",
   "mimetype": "text/x-python",
   "name": "python",
   "nbconvert_exporter": "python",
   "pygments_lexer": "ipython3",
   "version": "3.10.0"
  },
  "orig_nbformat": 4
 },
 "nbformat": 4,
 "nbformat_minor": 2
}
